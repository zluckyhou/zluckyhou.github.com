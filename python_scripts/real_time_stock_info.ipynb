{
 "cells": [
  {
   "cell_type": "code",
   "execution_count": 1,
   "metadata": {},
   "outputs": [],
   "source": [
    "import datetime\n",
    "import pandas as pd\n",
    "import tushare as ts\n",
    "import sys\n",
    "import requests"
   ]
  },
  {
   "cell_type": "code",
   "execution_count": 2,
   "metadata": {},
   "outputs": [],
   "source": [
    "tushare_token = sys.argv[1]\n",
    "# tushare_token = 'c0641675f20fa1b0c0787235e132a60a1242a89bdf953952773d71e5'\n",
    "ts.set_token(tushare_token)\n",
    "\n",
    "pro = ts.pro_api(tushare_token)"
   ]
  },
  {
   "cell_type": "markdown",
   "metadata": {},
   "source": [
    "## 定义股票价格四线预警类"
   ]
  },
  {
   "cell_type": "code",
   "execution_count": 15,
   "metadata": {},
   "outputs": [],
   "source": [
    "class stock_alert(object):\n",
    "    def __init__(self,stock_code):\n",
    "        self.stock_code = stock_code\n",
    "        self.today = datetime.datetime.today().date()\n",
    "    \n",
    "    # 获取实时数据\n",
    "    def get_real_info(self):\n",
    "        df_real = ts.get_realtime_quotes(self.stock_code.split('.')[0])\n",
    "        df_real['price'] = df_real['price'].astype(float)\n",
    "        df_real['pre_close'] = df_real['pre_close'].astype(float)\n",
    "        df_real['date'] =  df_real['date'] + ' ' + df_real['time']\n",
    "        real_info = df_real.iloc[0].to_dict()\n",
    "        real_info['return'] = (real_info['price'] - real_info['pre_close'])/real_info['pre_close']\n",
    "        df_real['date'] = pd.to_datetime(df_real['date'])\n",
    "        df_real['date_week'] = df_real['date'].apply(lambda x:x.date() + datetime.timedelta(4 - x.weekday()))\n",
    "        data_real = df_real[['date','date_week','price']]\n",
    "        data_real.columns = ['date','date_week','close']\n",
    "        return real_info,data_real\n",
    "    \n",
    "    # 获取历史数据\n",
    "    def get_history_info(self):\n",
    "        real_info,data_real = self.get_real_info()\n",
    "        \n",
    "        start_date = (self.today+datetime.timedelta(-500)).strftime('%Y%m%d')\n",
    "        end_date = ''.join(real_info['date'].split('-'))\n",
    "        df = ts.pro_bar(ts_code=self.stock_code, adj='qfq', start_date=start_date, end_date=end_date,ma=[5, 20, 50])\n",
    "        df['date'] = df['trade_date'].apply(lambda x:datetime.datetime.strptime(x,'%Y%m%d'))\n",
    "        # 添加当周周五，计算周均线\n",
    "        df['date_week'] = df['date'].apply(lambda x:x.date() + datetime.timedelta(4 - x.weekday()))\n",
    "        data_history = df.sort_values(by=['date'],ascending=False).loc[1:][['date','date_week','close']]\n",
    "        return data_history\n",
    "    \n",
    "    # 合并实时数据与历史数据\n",
    "    def merge_data(self):\n",
    "        real_info,data_real = self.get_real_info()\n",
    "        data_history = self.get_history_info()\n",
    "        data = pd.concat([data_real,data_history])\n",
    "        return data\n",
    "    \n",
    "    def calc_position(self,close,ma21,ma60,ma21_week,ma60_week):\n",
    "        ma_ls = [ma21,ma60,ma21_week,ma60_week]\n",
    "        flag_ls = [close >= i for i in ma_ls]\n",
    "        price_dis = sum([(close-i)/i for i in ma_ls])/4\n",
    "        ma_nums = sum(flag_ls)\n",
    "        return price_dis,ma_nums\n",
    "    \n",
    "    # 计算5日、21日、60日、5周线、21周线、60周线\n",
    "    def calc_ma(self):\n",
    "        data = self.merge_data()\n",
    "        data['ma5'] = data['close'][::-1].rolling(5).mean()[::-1]\n",
    "        data['ma21'] = data['close'][::-1].rolling(21).mean()[::-1]\n",
    "        data['ma60'] = data['close'][::-1].rolling(60).mean()[::-1]\n",
    "        ma21_week = data.groupby('date_week')['close'].first().rolling(21).mean().to_frame(name = 'ma21_week').reset_index()\n",
    "        ma60_week = data.groupby('date_week')['close'].first().rolling(60).mean().to_frame(name = 'ma60_week').reset_index()\n",
    "        data_21week = pd.merge(data,ma21_week,on='date_week')\n",
    "        data_60week = pd.merge(data_21week,ma60_week)\n",
    "        data_60week['price_dis'] =  data_60week.apply(lambda row:self.calc_position(row['close'],row['ma21'],row['ma60'],row['ma21_week'],row['ma60_week'])[0],axis=1)\n",
    "        data_60week['ma_nums'] =  data_60week.apply(lambda row:self.calc_position(row['close'],row['ma21'],row['ma60'],row['ma21_week'],row['ma60_week'])[1],axis=1)\n",
    "        data_60week['ma_diff'] = data_60week['ma_nums'].diff(-1) # 计算4线位置的变动，例如昨天3线，今天4线，则得到1，表示增加1线\n",
    "        data_60week['return_3days'] = data_60week['close'].diff(-3)/data_60week['close'] # 3日收益率\n",
    "        data_60week['return_5days'] = data_60week['close'].diff(-5)/data_60week['close'] # 5日收益率\n",
    "        return data_60week\n",
    "    \n",
    "    \n",
    "    # 输出最新价及4线信息\n",
    "    def print_info(self):\n",
    "        data = self.calc_ma()\n",
    "        ma_info = data.iloc[0]\n",
    "        ma_ls = [ma_info['ma21'],ma_info['ma60'],ma_info['ma21_week'],ma_info['ma60_week']]\n",
    "        flag_ls = [float(ma_info['close']) >= i for i in ma_ls]\n",
    "        ma_content = '|'.join([f'`{x:.2f}`' if y else f'{x:.2f}' for (x,y) in list(zip(ma_ls,flag_ls))])\n",
    "        real_info,data_real = self.get_real_info()\n",
    "        stock_url = \"https://xueqiu.com/S/\" + \"\".join(self.stock_code.split(\".\")[::-1])\n",
    "#         mark_ls = ['最新价在此上方' if flag  else '最新价在此下方' for flag in flag_ls]\n",
    "#         print_info = f'''{real_info[\"time\"]}|{real_info[\"name\"]}({real_info[\"code\"]})|{real_info[\"price\"]}|处于{sum(flag_ls)}线上方|<font color={mark_ls[0]}>{ma_info[\"ma21\"]:.2f}</font>|<font color={mark_ls[1]}>{ma_info[\"ma60\"]:.2f}</font>|<font color={mark_ls[2]}>{ma_info[\"ma21_week\"]:.2f}</font>|<font color={mark_ls[3]}>{ma_info[\"ma60_week\"]:.2f}</font>'''\n",
    "        print_info = f'{real_info[\"time\"]}|{real_info[\"name\"]}|[{real_info[\"code\"]}]({stock_url})|`{real_info[\"price\"]}`|{real_info[\"return\"]:.2%}|{ma_info[\"return_3days\"]:.2%}|{ma_info[\"return_5days\"]:.2%}|处`{sum(flag_ls)}`线上方|{int(ma_info[\"ma_diff\"])}|{ma_info[\"price_dis\"]:.2%}|{ma_content}'\n",
    "#         print_info = f'{real_info[\"time\"]}, {real_info[\"name\"]}({real_info[\"code\"]}), 最新价{real_info[\"price\"]}, 处于{sum(flag_ls)}线上方\\n\\n21日线|60日线|21周线|60周线\\n---|---|---|---\\n{ma_info[\"ma21\"]:.2f}|{ma_info[\"ma60\"]:.2f}|{ma_info[\"ma21_week\"]:.2f}|{ma_info[\"ma60_week\"]:.2f}'\n",
    "        ma_nums = sum(flag_ls)\n",
    "        return print_info\n",
    "        "
   ]
  },
  {
   "cell_type": "code",
   "execution_count": 16,
   "metadata": {},
   "outputs": [
    {
     "name": "stdout",
     "output_type": "stream",
     "text": [
      "15:00:03|信维通信|[300136](https://xueqiu.com/S/SZ300136)|`44.04`|-1.03%|1.75%|1.32%|处`4`线上方|0|10.81%|`40.00`|`41.74`|`42.62`|`35.44`\n"
     ]
    }
   ],
   "source": [
    "# #测试代码\n",
    "# stock ='300136.SZ'\n",
    "\n",
    "# df = stock_alert(stock).calc_ma()\n",
    "\n",
    "# print_info = stock_alert(stock).print_info()\n",
    "\n",
    "# print(print_info)"
   ]
  },
  {
   "cell_type": "markdown",
   "metadata": {},
   "source": [
    "# 写入blog"
   ]
  },
  {
   "cell_type": "code",
   "execution_count": 4,
   "metadata": {},
   "outputs": [],
   "source": [
    "# wechatkey = sys.argv[2]"
   ]
  },
  {
   "cell_type": "code",
   "execution_count": 5,
   "metadata": {},
   "outputs": [],
   "source": [
    "# def wechatMsg(msg,wechatkey):\n",
    "# #     env_dist = os.environ\n",
    "#     # key1 = env_dist.get('wechat_key1')  # John\n",
    "#     # key2 = env_dist.get('wechat_key2') # Shin\n",
    "#     # keys = [key1,key2]\n",
    "#     params = {'text':'股价4线提示','desp':f'<font color=red>红色</font>表示处于最新价下方，<font color=green>绿色</font>表示处于最新价上方\\n\\n{msg}'}\n",
    "#     url = f'http://sc.ftqq.com/{wechatkey}.send'\n",
    "#     requests.get(url,params = params)"
   ]
  },
  {
   "cell_type": "code",
   "execution_count": 83,
   "metadata": {},
   "outputs": [],
   "source": [
    "mystocks = ['300136.SZ','300618.SZ','300496.SZ','603019.SH','603611.SH','600446.SH','603799.SH','300348.SZ','300377.SZ']\n",
    "\n",
    "msg_ls = []\n",
    "for stock in mystocks:\n",
    "    mystock = stock_alert(stock)\n",
    "    print_info = mystock.print_info()\n",
    "    msg_ls.append(print_info)"
   ]
  },
  {
   "cell_type": "code",
   "execution_count": 86,
   "metadata": {},
   "outputs": [],
   "source": [
    "header = '时间|名称|代码|最新价|当日|3日|5日|位置|变动|距离|ma21|ma60|ma21w|ma60w\\n---|---|---|---|---|---|---|---|---'\n",
    "\n",
    "table = header + '\\n' + '\\n'.join(msg_ls)"
   ]
  },
  {
   "cell_type": "code",
   "execution_count": 85,
   "metadata": {},
   "outputs": [
    {
     "name": "stdout",
     "output_type": "stream",
     "text": [
      "时间|名称|代码|最新价|涨跌幅|位置|较昨日变动|距离|21日线|60日线|21周线|60周线\n",
      "---|---|---|---|---|---|---|---|---\n",
      "13:38:39|信维通信|300136|`44.32`|-0.40%|处`4`线上方|0|11.69%|`39.61`|`41.71`|`42.63`|`35.44`\n",
      "13:38:39|寒锐钴业|300618|`52.17`|-1.34%|处`1`线上方|0|-7.97%|`49.36`|56.68|64.50|58.29\n",
      "13:38:39|中科创达|300496|`63.59`|0.39%|处`4`线上方|0|17.69%|`58.35`|`60.75`|`57.85`|`43.20`\n",
      "13:38:40|中科曙光|603019|`39.19`|-0.43%|处`4`线上方|0|22.17%|`34.52`|`33.90`|`32.21`|`28.42`\n",
      "13:38:37|诺力股份|603611|`20.68`|1.03%|处`4`线上方|0|14.89%|`18.05`|`18.58`|`18.09`|`17.32`\n",
      "13:38:40|金证股份|600446|`16.92`|-1.51%|处`0`线上方|0|-9.79%|17.22|18.48|19.12|20.50\n",
      "13:38:41|华友钴业|603799|`35.43`|-1.88%|处`2`线上方|0|2.88%|`34.28`|36.38|38.34|`29.94`\n",
      "13:38:42|长亮科技|300348|`26.36`|-1.24%|处`4`线上方|0|14.31%|`24.98`|`24.82`|`24.44`|`19.15`\n",
      "13:38:42|赢时胜|300377|`10.08`|-0.30%|处`0`线上方|0|-8.65%|10.33|11.07|11.19|11.62\n"
     ]
    }
   ],
   "source": [
    "print(table)"
   ]
  },
  {
   "cell_type": "code",
   "execution_count": 114,
   "metadata": {},
   "outputs": [],
   "source": [
    "blog_title = '''\n",
    "---\n",
    "layout: post\n",
    "title: 股价四线法则实时数据\n",
    "date: 2020-5-10\n",
    "categories: blog\n",
    "tags: [python,stock]\n",
    "description: stock index alert\n",
    "---\n",
    "'''"
   ]
  },
  {
   "cell_type": "code",
   "execution_count": 115,
   "metadata": {},
   "outputs": [],
   "source": [
    "blog_paragraph = '''\n",
    "本文根据雪球大v[古泉](https://xueqiu.com/u/7148646888)的[古泉四线法则](https://xueqiu.com/7148646888/130498192)，计算了自己的一些自选股当前所处位置，用于持续追踪验证，帮助自己进行判断。\n",
    "\n",
    "**说明**：下表中4线对应取值为`红色`表示最新价处于对应指标上方，属正面\n",
    "'''"
   ]
  },
  {
   "cell_type": "code",
   "execution_count": 116,
   "metadata": {},
   "outputs": [],
   "source": [
    "blog_tile = '''\n",
    "```\n",
    "古泉4线法则的精髓如下。抓住21日线、60日线、21周线及60周线等四条线，外加21月线，任何一只股票上涨都要穿过这四条线，任何一只股票要想爆雷也要先下穿过这四条线：\n",
    "\n",
    "+ 当股价爬上四条线中的两条可以少量建仓\n",
    "\n",
    "+ 爬上四条线中的三条可以加大仓位\n",
    "\n",
    "+ 爬上四条线中的四条可以全仓\n",
    "\n",
    "任何一只大牛，其股价都会坚守在21月线上方，不会轻易跌破21月线；相反，每跌破四条线中一条就减一些仓位：\n",
    "\n",
    "+ 21周线可做为多空分水岭及警戒线，股价在21周线及60周线下方就要十分慎重，多看少做\n",
    "\n",
    "+ 跌破全部四条线就要大幅减仓，甚至清仓，一旦跌破21月线，清仓观望\n",
    "```\n",
    "'''"
   ]
  },
  {
   "cell_type": "code",
   "execution_count": 102,
   "metadata": {},
   "outputs": [],
   "source": [
    "blog = f'{blog_title}\\n{blog_paragraph}\\n{table}\\n{blog_tile}'.strip()"
   ]
  },
  {
   "cell_type": "code",
   "execution_count": 104,
   "metadata": {},
   "outputs": [],
   "source": [
    "path = './_posts/'"
   ]
  },
  {
   "cell_type": "code",
   "execution_count": 105,
   "metadata": {},
   "outputs": [],
   "source": [
    "blog_name = '2020-5-10-股价四线法则实时数据.md'"
   ]
  },
  {
   "cell_type": "code",
   "execution_count": 106,
   "metadata": {},
   "outputs": [],
   "source": [
    "with open(path + blog_name,'w') as f:\n",
    "    f.write(blog)"
   ]
  }
 ],
 "metadata": {
  "kernelspec": {
   "display_name": "Python 3",
   "language": "python",
   "name": "python3"
  },
  "language_info": {
   "codemirror_mode": {
    "name": "ipython",
    "version": 3
   },
   "file_extension": ".py",
   "mimetype": "text/x-python",
   "name": "python",
   "nbconvert_exporter": "python",
   "pygments_lexer": "ipython3",
   "version": "3.7.3"
  }
 },
 "nbformat": 4,
 "nbformat_minor": 4
}
