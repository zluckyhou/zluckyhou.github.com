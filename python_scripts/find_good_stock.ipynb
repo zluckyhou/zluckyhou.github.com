{
 "cells": [
  {
   "cell_type": "code",
   "execution_count": 1,
   "metadata": {},
   "outputs": [],
   "source": [
    "import datetime\n",
    "import pandas as pd\n",
    "import tushare as ts\n",
    "import sys\n",
    "import requests\n",
    "import tqdm\n",
    "import time\n",
    "\n",
    "import multiprocessing\n",
    "\n",
    "import re\n",
    "import akshare as ak"
   ]
  },
  {
   "cell_type": "code",
   "execution_count": 6,
   "metadata": {},
   "outputs": [],
   "source": [
    "# # tushare_token = sys.argv[1]\n",
    "# tushare_token = 'c0641675f20fa1b0c0787235e132a60a1242a89bdf953952773d71e5'\n",
    "# ts.set_token(tushare_token)\n",
    "\n",
    "# pro = ts.pro_api(tushare_token)"
   ]
  },
  {
   "cell_type": "code",
   "execution_count": 2,
   "metadata": {},
   "outputs": [],
   "source": [
    "tushare_token = sys.argv[1]\n",
    "\n",
    "tushare_token = 'd4815851268468e0b1ec29de65b0d31d8e0d3e0c04a1d89fe04a0120'\n",
    "\n",
    "ts.set_token(tushare_token)\n",
    "\n",
    "pro = ts.pro_api(tushare_token)"
   ]
  },
  {
   "cell_type": "markdown",
   "metadata": {},
   "source": [
    "## TODO-判断当前是要跌落4线还是爬上4线"
   ]
  },
  {
   "cell_type": "markdown",
   "metadata": {},
   "source": [
    "## 使用4线发现好股票"
   ]
  },
  {
   "cell_type": "code",
   "execution_count": 3,
   "metadata": {},
   "outputs": [],
   "source": [
    "class stock_ma(object):\n",
    "    def __init__(self,stock_code):\n",
    "        self.stock_code = stock_code\n",
    "        self.today = datetime.datetime.today().date()\n",
    "    \n",
    "    # 获取实时数据\n",
    "    def get_real_info(self):\n",
    "        df_real = ts.get_realtime_quotes(self.stock_code.split('.')[0])\n",
    "        df_real['price'] = df_real['price'].astype(float)\n",
    "        df_real['pre_close'] = df_real['pre_close'].astype(float)\n",
    "        df_real['date'] =  df_real['date'] + ' ' + df_real['time']\n",
    "        real_info = df_real.iloc[0].to_dict()\n",
    "        real_info['return'] = (real_info['price'] - real_info['pre_close'])/real_info['pre_close']\n",
    "        df_real['date'] = pd.to_datetime(df_real['date'])\n",
    "        df_real['date_week'] = df_real['date'].apply(lambda x:x.date() + datetime.timedelta(4 - x.weekday()))\n",
    "        data_real = df_real[['date','date_week','price']]\n",
    "        data_real.columns = ['date','date_week','close']\n",
    "        return real_info,data_real\n",
    "    \n",
    "    # 获取历史数据\n",
    "    def get_history_info(self):\n",
    "        real_info,data_real = self.get_real_info()\n",
    "        \n",
    "        start_date = (self.today+datetime.timedelta(-500)).strftime('%Y%m%d')\n",
    "        end_date = ''.join(real_info['date'].split('-'))\n",
    "        df = ts.pro_bar(ts_code=self.stock_code, adj='qfq', start_date=start_date, end_date=end_date,ma=[5, 20, 50])\n",
    "        df['date'] = df['trade_date'].apply(lambda x:datetime.datetime.strptime(x,'%Y%m%d'))\n",
    "        # 添加当周周五，计算周均线\n",
    "        df['date_week'] = df['date'].apply(lambda x:x.date() + datetime.timedelta(4 - x.weekday()))\n",
    "        data_history = df.sort_values(by=['date'],ascending=False).loc[1:][['date','date_week','close']]\n",
    "        return data_history\n",
    "    \n",
    "    # 合并实时数据与历史数据\n",
    "    def merge_data(self):\n",
    "        real_info,data_real = self.get_real_info()\n",
    "        data_history = self.get_history_info()\n",
    "        data = pd.concat([data_real,data_history])\n",
    "        return data\n",
    "    \n",
    "    def calc_position(self,close,ma21,ma60,ma21_week,ma60_week):\n",
    "        ma_ls = [ma21,ma60,ma21_week,ma60_week]\n",
    "        flag_ls = [close >= i for i in ma_ls]\n",
    "        price_dis = sum([(close-i)/i for i in ma_ls])/4\n",
    "        ma_nums = sum(flag_ls)\n",
    "        return price_dis,ma_nums\n",
    "    \n",
    "    # 计算5日、21日、60日、5周线、21周线、60周线\n",
    "    def calc_ma(self):\n",
    "        data = self.merge_data()\n",
    "        data['ma5'] = data['close'][::-1].rolling(5).mean()[::-1]\n",
    "        data['ma21'] = data['close'][::-1].rolling(21).mean()[::-1]\n",
    "        data['ma60'] = data['close'][::-1].rolling(60).mean()[::-1]\n",
    "        ma21_week = data.groupby('date_week')['close'].first().rolling(21).mean().to_frame(name = 'ma21_week').reset_index()\n",
    "        ma60_week = data.groupby('date_week')['close'].first().rolling(60).mean().to_frame(name = 'ma60_week').reset_index()\n",
    "        data_21week = pd.merge(data,ma21_week,on='date_week')\n",
    "        data_60week = pd.merge(data_21week,ma60_week)\n",
    "        data_60week['price_dis'] =  data_60week.apply(lambda row:self.calc_position(row['close'],row['ma21'],row['ma60'],row['ma21_week'],row['ma60_week'])[0],axis=1)\n",
    "        data_60week['ma_nums'] =  data_60week.apply(lambda row:self.calc_position(row['close'],row['ma21'],row['ma60'],row['ma21_week'],row['ma60_week'])[1],axis=1)\n",
    "        data_60week['ma_diff'] = data_60week['ma_nums'].diff(-1) # 计算4线位置的变动，例如昨天3线，今天4线，则得到1，表示增加1线\n",
    "        data_60week['return_3days'] = data_60week['close'].diff(-3)/data_60week['close'] # 3日收益率\n",
    "        data_60week['return_5days'] = data_60week['close'].diff(-5)/data_60week['close'] # 5日收益率\n",
    "        return data_60week\n",
    "    \n",
    "    \n",
    "    # 输出最新价及4线信息\n",
    "    def print_info(self):\n",
    "        data = self.calc_ma()\n",
    "        ma_info = data.iloc[0]\n",
    "        ma_ls = [ma_info['ma21'],ma_info['ma60'],ma_info['ma21_week'],ma_info['ma60_week']]\n",
    "        flag_ls = [float(ma_info['close']) >= i for i in ma_ls]\n",
    "        ma_content = '|'.join([f'`{x:.2f}`' if y else f'{x:.2f}' for (x,y) in list(zip(ma_ls,flag_ls))])\n",
    "        real_info,data_real = self.get_real_info()\n",
    "        stock_url = \"https://xueqiu.com/S/\" + \"\".join(self.stock_code.split(\".\")[::-1])\n",
    "#         mark_ls = ['最新价在此上方' if flag  else '最新价在此下方' for flag in flag_ls]\n",
    "#         print_info = f'''{real_info[\"time\"]}|{real_info[\"name\"]}({real_info[\"code\"]})|{real_info[\"price\"]}|处于{sum(flag_ls)}线上方|<font color={mark_ls[0]}>{ma_info[\"ma21\"]:.2f}</font>|<font color={mark_ls[1]}>{ma_info[\"ma60\"]:.2f}</font>|<font color={mark_ls[2]}>{ma_info[\"ma21_week\"]:.2f}</font>|<font color={mark_ls[3]}>{ma_info[\"ma60_week\"]:.2f}</font>'''\n",
    "        print_info = f'{real_info[\"time\"]}|{real_info[\"name\"]}|[{real_info[\"code\"]}]({stock_url})|`{real_info[\"price\"]}`|{real_info[\"return\"]:.2%}|{ma_info[\"return_3days\"]:.2%}|{ma_info[\"return_5days\"]:.2%}|处`{sum(flag_ls)}`线上方|{int(ma_info[\"ma_diff\"])}|{ma_info[\"price_dis\"]:.2%}|{ma_content}'\n",
    "#         print_info = f'{real_info[\"time\"]}, {real_info[\"name\"]}({real_info[\"code\"]}), 最新价{real_info[\"price\"]}, 处于{sum(flag_ls)}线上方\\n\\n21日线|60日线|21周线|60周线\\n---|---|---|---\\n{ma_info[\"ma21\"]:.2f}|{ma_info[\"ma60\"]:.2f}|{ma_info[\"ma21_week\"]:.2f}|{ma_info[\"ma60_week\"]:.2f}'\n",
    "        ma_nums = sum(flag_ls)\n",
    "        return ma_nums,ma_info[\"price_dis\"],print_info,ma_info[\"ma_diff\"]\n",
    "        "
   ]
  },
  {
   "cell_type": "markdown",
   "metadata": {},
   "source": [
    "### 获取当前股票列表"
   ]
  },
  {
   "cell_type": "code",
   "execution_count": 43,
   "metadata": {},
   "outputs": [],
   "source": [
    "data = pro.stock_basic(exchange='', list_status='L', fields='ts_code,symbol,name,area,industry,list_date')\n",
    "\n",
    "data['ipo_date'] = data['list_date'].apply(lambda x:datetime.datetime.strptime(x,'%Y%m%d'))\n",
    "\n",
    "# 过滤满足时间的股票\n",
    "\n",
    "min_date = datetime.datetime.today().date() + datetime.timedelta(-500)\n",
    "\n",
    "filter_data = data[data['ipo_date'].apply(lambda x:x <= min_date)] \n",
    "\n",
    "\n",
    "# 中小板或创业板股票\n",
    "szc_mark = filter_data['ts_code'].apply(lambda x:x.startswith('3') or x.startswith('0'))\n",
    "# industry_mark = filter_data['industry'].isin(['软件服务','元器件','通信设备','半导体','电器仪表','互联网','生物制药','IT设备','化工原料'])\n",
    "# stocks_szc = filter_data[szc_mark&industry_mark].reset_index()\n",
    "stocks_szc = filter_data[szc_mark].reset_index()"
   ]
  },
  {
   "cell_type": "markdown",
   "metadata": {},
   "source": [
    "### 获取所有创业板股票一段时间内的数据-for loop"
   ]
  },
  {
   "cell_type": "code",
   "execution_count": 32,
   "metadata": {},
   "outputs": [],
   "source": [
    "# 创业板股票\n",
    "\n",
    "# stocks_szc_ma = [stock_ma(stock).print_info() for stock in stocks_szc['ts_code']]\n",
    "\n",
    "stocks_szc_ma = []\n",
    "for stock in tqdm.tqdm(stocks_szc['ts_code']):\n",
    "    stocks_szc_ma.append(stock_ma(stock).print_info())"
   ]
  },
  {
   "cell_type": "markdown",
   "metadata": {},
   "source": [
    "### 获取所有中小板股票一段时间内的数据-多进程"
   ]
  },
  {
   "cell_type": "code",
   "execution_count": 48,
   "metadata": {},
   "outputs": [],
   "source": [
    "# cpu_count = multiprocessing.cpu_count()\n",
    "\n",
    "# def func(stock):\n",
    "#     try:\n",
    "#         res = stock_ma(stock).print_info()\n",
    "#     except Exception as e:\n",
    "#         res = ''\n",
    "#     return res\n",
    "\n",
    "# start = time.time()\n",
    "# with multiprocessing.Pool(cpu_count) as p:\n",
    "#     stocks_szc_ma = p.map(func,stocks_szc['ts_code'])\n",
    "# end = time.time()\n",
    "# time_span = end-start\n",
    "# print('耗时：{}秒'.format(time_span))"
   ]
  },
  {
   "cell_type": "markdown",
   "metadata": {},
   "source": [
    "### 选择当天爬上4线或3线，并且当前价格距离4线不超过10%的股票"
   ]
  },
  {
   "cell_type": "code",
   "execution_count": 56,
   "metadata": {},
   "outputs": [],
   "source": [
    "pick_stocks = [i for i in stocks_szc_ma if i!='' and  i[0] >= 3 and i[1] <= 0.1 and i[3]>0]"
   ]
  },
  {
   "cell_type": "code",
   "execution_count": 57,
   "metadata": {},
   "outputs": [],
   "source": [
    "msg_ls = [i[2] for i in pick_stocks]"
   ]
  },
  {
   "cell_type": "code",
   "execution_count": 58,
   "metadata": {},
   "outputs": [],
   "source": [
    "header = '时间|名称|代码|最新价|当日|3日|5日|位置|变动|距离|ma21|ma60|ma21w|ma60w\\n---|---|---|---|---|---|---|---|---'\n",
    "\n",
    "table = header + '\\n' + '\\n'.join(msg_ls)"
   ]
  },
  {
   "cell_type": "code",
   "execution_count": 61,
   "metadata": {},
   "outputs": [],
   "source": [
    "# # 选取最近一次收入增长率 >20%的股票\n",
    "\n",
    "# pick_stocks_ls = [re.findall('\\[(\\d+)\\]',i.split('|')[2])[0] for i in msg_ls]\n",
    "\n",
    "# def get_growth_rate(stock):\n",
    "#     stock_financial_analysis_indicator_df = ak.stock_financial_analysis_indicator(stock=stock)\n",
    "#     # 获取最近一次主营业务收入增长率\n",
    "#     growth_rate =  stock_financial_analysis_indicator_df['主营业务收入增长率(%)'].iloc[0]\n",
    "#     return growth_rate\n",
    "\n",
    "# growth_rate_ls = [get_growth_rate(stock) for stock in pick_stocks_ls]\n",
    "\n",
    "# msg_ls = [i+'|`{:.2%}`'.format(float(j)/100) for (i,j) in list(zip(msg_ls,growth_rate_ls)) if float(j) >20]\n",
    "\n",
    "# header = '时间|名称|代码|最新价|当日|3日|5日|位置|变动|距离|ma21|ma60|ma21w|ma60w|GR\\n---|---|---|---|---|---|---|---|---|---'\n",
    "\n",
    "# table = header + '\\n' + '\\n'.join(msg_ls)"
   ]
  },
  {
   "cell_type": "code",
   "execution_count": 62,
   "metadata": {},
   "outputs": [
    {
     "name": "stdout",
     "output_type": "stream",
     "text": [
      "时间|名称|代码|最新价|当日|3日|5日|位置|变动|距离|ma21|ma60|ma21w|ma60w\n",
      "---|---|---|---|---|---|---|---|---\n",
      "15:00:03|海螺型材|[000619](https://xueqiu.com/S/SZ000619)|`5.3`|0.38%|2.08%|3.40%|处`4`线上方|1|5.85%|`4.97`|`4.84`|`4.95`|`5.28`\n",
      "15:00:03|新能泰山|[000720](https://xueqiu.com/S/SZ000720)|`5.48`|2.24%|4.74%|6.75%|处`4`线上方|2|2.95%|`5.18`|`5.39`|`5.45`|`5.28`\n",
      "15:00:03|ST安凯|[000868](https://xueqiu.com/S/SZ000868)|`4.33`|0.23%|5.77%|9.01%|处`4`线上方|1|4.82%|`4.21`|`4.00`|`4.32`|`4.01`\n",
      "15:00:03|神开股份|[002278](https://xueqiu.com/S/SZ002278)|`6.12`|3.73%|6.70%|6.54%|处`4`线上方|1|9.79%|`5.43`|`5.33`|`5.55`|`6.04`\n",
      "15:00:03|*ST中南|[002445](https://xueqiu.com/S/SZ002445)|`1.67`|5.03%|4.79%|5.39%|处`4`线上方|1|9.73%|`1.64`|`1.53`|`1.47`|`1.46`\n",
      "15:00:03|岭南股份|[002717](https://xueqiu.com/S/SZ002717)|`4.96`|3.12%|6.05%|7.86%|处`4`线上方|1|5.49%|`4.59`|`4.62`|`4.73`|`4.89`\n",
      "15:00:03|中装建设|[002822](https://xueqiu.com/S/SZ002822)|`9.95`|3.00%|7.34%|13.87%|处`4`线上方|1|7.52%|`8.88`|`9.57`|`9.80`|`8.84`\n",
      "15:00:03|高斯贝尔|[002848](https://xueqiu.com/S/SZ002848)|`12.97`|0.70%|3.01%|7.48%|处`4`线上方|1|4.76%|`12.10`|`12.12`|`12.42`|`12.91`\n",
      "15:00:03|泰胜风能|[300129](https://xueqiu.com/S/SZ300129)|`4.16`|0.73%|3.85%|9.38%|处`3`线上方|1|3.52%|`3.83`|`3.93`|`4.13`|4.21\n",
      "15:00:03|富邦股份|[300387](https://xueqiu.com/S/SZ300387)|`9.37`|1.63%|4.06%|7.68%|处`4`线上方|1|8.98%|`8.58`|`8.31`|`8.24`|`9.34`\n"
     ]
    }
   ],
   "source": [
    "print(table)"
   ]
  },
  {
   "cell_type": "code",
   "execution_count": 18,
   "metadata": {},
   "outputs": [],
   "source": [
    "blog_title = '''\n",
    "---\n",
    "layout: post\n",
    "title: 四线法发现好股票\n",
    "date: 2020-5-12\n",
    "categories: blog\n",
    "tags: [python,stock]\n",
    "description: find good stock\n",
    "---\n",
    "'''"
   ]
  },
  {
   "cell_type": "code",
   "execution_count": 19,
   "metadata": {},
   "outputs": [],
   "source": [
    "blog_paragraph = '''\n",
    "本文根据雪球大v[古泉](https://xueqiu.com/u/7148646888)的[古泉四线法则](https://xueqiu.com/7148646888/130498192)，计算一些创业板目前在3线以上，且距离4线的平均位置不超过10%的股票，用于发现好股票.\n",
    "所选股票均来自以下行业：`软件服务,元器件,通信设备,半导体,电器仪表,互联网,生物制药,IT设备,化工原料`\n",
    "\n",
    "**说明**：下表中4线对应取值为`红色`表示最新价处于对应指标上方，属正面\n",
    "\n",
    "'''"
   ]
  },
  {
   "cell_type": "code",
   "execution_count": 20,
   "metadata": {},
   "outputs": [],
   "source": [
    "blog_tile = '''\n",
    "```\n",
    "古泉4线法则的精髓如下。抓住21日线、60日线、21周线及60周线等四条线，外加21月线，任何一只股票上涨都要穿过这四条线，任何一只股票要想爆雷也要先下穿过这四条线：\n",
    "\n",
    "+ 当股价爬上四条线中的两条可以少量建仓\n",
    "\n",
    "+ 爬上四条线中的三条可以加大仓位\n",
    "\n",
    "+ 爬上四条线中的四条可以全仓\n",
    "\n",
    "任何一只大牛，其股价都会坚守在21月线上方，不会轻易跌破21月线；相反，每跌破四条线中一条就减一些仓位：\n",
    "\n",
    "+ 21周线可做为多空分水岭及警戒线，股价在21周线及60周线下方就要十分慎重，多看少做\n",
    "\n",
    "+ 跌破全部四条线就要大幅减仓，甚至清仓，一旦跌破21月线，清仓观望\n",
    "```\n",
    "'''"
   ]
  },
  {
   "cell_type": "code",
   "execution_count": 21,
   "metadata": {},
   "outputs": [],
   "source": [
    "blog = f'{blog_title}\\n{blog_paragraph}\\n{table}\\n{blog_tile}'.strip()"
   ]
  },
  {
   "cell_type": "code",
   "execution_count": 163,
   "metadata": {},
   "outputs": [],
   "source": [
    "path = './_posts/'"
   ]
  },
  {
   "cell_type": "code",
   "execution_count": null,
   "metadata": {},
   "outputs": [],
   "source": [
    "blog_name = '2020-5-12-四线法发现好股票.md'"
   ]
  },
  {
   "cell_type": "code",
   "execution_count": null,
   "metadata": {},
   "outputs": [],
   "source": [
    "with open(path + blog_name,'w') as f:\n",
    "    f.write(blog)"
   ]
  }
 ],
 "metadata": {
  "kernelspec": {
   "display_name": "Python 3",
   "language": "python",
   "name": "python3"
  },
  "language_info": {
   "codemirror_mode": {
    "name": "ipython",
    "version": 3
   },
   "file_extension": ".py",
   "mimetype": "text/x-python",
   "name": "python",
   "nbconvert_exporter": "python",
   "pygments_lexer": "ipython3",
   "version": "3.7.3"
  }
 },
 "nbformat": 4,
 "nbformat_minor": 4
}
