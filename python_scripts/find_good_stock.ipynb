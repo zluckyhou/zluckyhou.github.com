{
 "cells": [
  {
   "cell_type": "code",
   "execution_count": 25,
   "metadata": {},
   "outputs": [],
   "source": [
    "import datetime\n",
    "import pandas as pd\n",
    "import tushare as ts\n",
    "import sys\n",
    "import requests"
   ]
  },
  {
   "cell_type": "code",
   "execution_count": 3,
   "metadata": {},
   "outputs": [],
   "source": [
    "# tushare_token = sys.argv[1]\n",
    "tushare_token = 'c0641675f20fa1b0c0787235e132a60a1242a89bdf953952773d71e5'\n",
    "ts.set_token(tushare_token)\n",
    "\n",
    "pro = ts.pro_api(tushare_token)"
   ]
  },
  {
   "cell_type": "code",
   "execution_count": 99,
   "metadata": {},
   "outputs": [],
   "source": [
    "ts_token2 = 'd4815851268468e0b1ec29de65b0d31d8e0d3e0c04a1d89fe04a0120'\n",
    "\n",
    "ts.set_token(ts_token2)\n",
    "\n",
    "pro = ts.pro_api(ts_token2)"
   ]
  },
  {
   "cell_type": "markdown",
   "metadata": {},
   "source": [
    "## 定义股票价格四线预警类"
   ]
  },
  {
   "cell_type": "code",
   "execution_count": 128,
   "metadata": {},
   "outputs": [],
   "source": [
    "class stock_ma(object):\n",
    "    def __init__(self,stock_code):\n",
    "        self.stock_code = stock_code\n",
    "        self.today = datetime.datetime.today().date()\n",
    "    \n",
    "    # 获取实时数据\n",
    "    def get_real_info(self):\n",
    "        df_real = ts.get_realtime_quotes(self.stock_code.split('.')[0])\n",
    "        df_real['price'] = df_real['price'].astype(float)\n",
    "        df_real['pre_close'] = df_real['pre_close'].astype(float)\n",
    "        real_info = df_real.iloc[0].to_dict()\n",
    "        real_info['return'] = (real_info['price'] - real_info['pre_close'])/real_info['pre_close']\n",
    "        df_real['date'] = pd.to_datetime(df_real['date'])\n",
    "        df_real['date_week'] = df_real['date'].apply(lambda x:x + datetime.timedelta(4 - x.weekday()))\n",
    "        data_real = df_real[['date','date_week','price']]\n",
    "        data_real.columns = ['date','date_week','close']\n",
    "        return real_info,data_real\n",
    "    \n",
    "    # 获取历史数据\n",
    "    def get_history_info(self):\n",
    "        real_info,data_real = self.get_real_info()\n",
    "        \n",
    "        start_date = (self.today+datetime.timedelta(-500)).strftime('%Y%m%d')\n",
    "        end_date = ''.join(real_info['date'].split('-'))\n",
    "        df = ts.pro_bar(ts_code=self.stock_code, adj='qfq', start_date=start_date, end_date=end_date,ma=[5, 20, 50])\n",
    "        df['date'] = df['trade_date'].apply(lambda x:datetime.datetime.strptime(x,'%Y%m%d'))\n",
    "        # 添加当周周五，计算周均线\n",
    "        df['date_week'] = df['date'].apply(lambda x:x + datetime.timedelta(4 - x.weekday()))\n",
    "        data_history = df.sort_values(by=['date'],ascending=False).loc[1:][['date','date_week','close']]\n",
    "        return data_history\n",
    "    \n",
    "    # 合并实时数据与历史数据\n",
    "    def merge_data(self):\n",
    "        real_info,data_real = self.get_real_info()\n",
    "        data_history = self.get_history_info()\n",
    "        data = pd.concat([data_real,data_history])\n",
    "        return data\n",
    "    \n",
    "    # 计算5日、21日、60日、5周线、21周线、60周线\n",
    "    def calc_ma(self):\n",
    "        data = self.merge_data()\n",
    "        data['ma5'] = data['close'][::-1].rolling(5).mean()[::-1]\n",
    "        data['ma21'] = data['close'][::-1].rolling(21).mean()[::-1]\n",
    "        data['ma60'] = data['close'][::-1].rolling(60).mean()[::-1]\n",
    "        ma21_week = data.groupby('date_week')['close'].first().rolling(21).mean().to_frame(name = 'ma21_week').reset_index()\n",
    "        ma60_week = data.groupby('date_week')['close'].first().rolling(60).mean().to_frame(name = 'ma60_week').reset_index()\n",
    "        data_21week = pd.merge(data,ma21_week,on='date_week')\n",
    "        data_60week = pd.merge(data_21week,ma60_week)\n",
    "        return data_60week\n",
    "    \n",
    "    # 输出最新价及4线\n",
    "    def print_info(self):\n",
    "        data_60week = self.calc_ma()\n",
    "        real_info,data_real = self.get_real_info()\n",
    "        ma_info = data_60week.iloc[0].to_dict()\n",
    "        ma_ls = [ma_info['ma21'],ma_info['ma60'],ma_info['ma21_week'],ma_info['ma60_week']]\n",
    "        flag_ls = [float(real_info['price']) >= i for i in ma_ls]\n",
    "        price_dis = sum([(real_info['price']-i)/i for i in ma_ls])/4\n",
    "        ma_content = '|'.join([f'`{x:.2f}`' if y else f'{x:.2f}' for (x,y) in list(zip(ma_ls,flag_ls))])\n",
    "#         mark_ls = ['最新价在此上方' if flag  else '最新价在此下方' for flag in flag_ls]\n",
    "#         print_info = f'''{real_info[\"time\"]}|{real_info[\"name\"]}({real_info[\"code\"]})|{real_info[\"price\"]}|处于{sum(flag_ls)}线上方|<font color={mark_ls[0]}>{ma_info[\"ma21\"]:.2f}</font>|<font color={mark_ls[1]}>{ma_info[\"ma60\"]:.2f}</font>|<font color={mark_ls[2]}>{ma_info[\"ma21_week\"]:.2f}</font>|<font color={mark_ls[3]}>{ma_info[\"ma60_week\"]:.2f}</font>'''\n",
    "        print_info = f'{real_info[\"time\"]}|{real_info[\"name\"]}|{real_info[\"code\"]}|`{real_info[\"price\"]}`|{real_info[\"return\"]:.2%}|处于`{sum(flag_ls)}`线上方|{price_dis:.2%}|{ma_content}'\n",
    "#         print_info = f'{real_info[\"time\"]}, {real_info[\"name\"]}({real_info[\"code\"]}), 最新价{real_info[\"price\"]}, 处于{sum(flag_ls)}线上方\\n\\n21日线|60日线|21周线|60周线\\n---|---|---|---\\n{ma_info[\"ma21\"]:.2f}|{ma_info[\"ma60\"]:.2f}|{ma_info[\"ma21_week\"]:.2f}|{ma_info[\"ma60_week\"]:.2f}'\n",
    "        ma_nums = sum(flag_ls)\n",
    "        return ma_nums,print_info\n",
    "        "
   ]
  },
  {
   "cell_type": "code",
   "execution_count": 100,
   "metadata": {},
   "outputs": [],
   "source": [
    "df = pro.query('daily', start_date='20180701', end_date='20180718')"
   ]
  },
  {
   "cell_type": "markdown",
   "metadata": {},
   "source": [
    "### 获取当前股票列表"
   ]
  },
  {
   "cell_type": "code",
   "execution_count": 48,
   "metadata": {},
   "outputs": [],
   "source": [
    "data = pro.stock_basic(exchange='', list_status='L', fields='ts_code,symbol,name,area,industry,list_date')\n",
    "\n",
    "data['ipo_date'] = data['list_date'].apply(lambda x:datetime.datetime.strptime(x,'%Y%m%d'))\n",
    "\n",
    "# 过滤满足时间的股票\n",
    "\n",
    "min_date = datetime.datetime.today().date() + datetime.timedelta(-500)\n",
    "\n",
    "filter_data = data[data['ipo_date'].apply(lambda x:x <= min_date)] "
   ]
  },
  {
   "cell_type": "code",
   "execution_count": 53,
   "metadata": {},
   "outputs": [
    {
     "data": {
      "text/plain": [
       "(3546, 7)"
      ]
     },
     "execution_count": 53,
     "metadata": {},
     "output_type": "execute_result"
    }
   ],
   "source": [
    "filter_data.shape"
   ]
  },
  {
   "cell_type": "code",
   "execution_count": 67,
   "metadata": {},
   "outputs": [],
   "source": [
    "# 中小板股票\n",
    "stocks_sz = filter_data[filter_data['ts_code'].apply(lambda x:x.startswith('0'))]"
   ]
  },
  {
   "cell_type": "code",
   "execution_count": 115,
   "metadata": {},
   "outputs": [],
   "source": [
    "# 创业板股票\n",
    "stocks_szc = filter_data[filter_data['ts_code'].apply(lambda x:x.startswith('3'))].reset_index()"
   ]
  },
  {
   "cell_type": "code",
   "execution_count": 129,
   "metadata": {},
   "outputs": [],
   "source": [
    "stock = stocks_szc['ts_code'][0]"
   ]
  },
  {
   "cell_type": "code",
   "execution_count": 130,
   "metadata": {},
   "outputs": [
    {
     "data": {
      "text/plain": [
       "(2,\n",
       " '15:00:03|特锐德|300001|`19.87`|-0.40%|处于`2`线上方|-2.12%|`19.50`|21.48|21.14|`19.27`')"
      ]
     },
     "execution_count": 130,
     "metadata": {},
     "output_type": "execute_result"
    }
   ],
   "source": [
    "stock_ma(stock).print_info()"
   ]
  },
  {
   "cell_type": "markdown",
   "metadata": {},
   "source": [
    "### 获取所有创业板股票一段时间内的数据"
   ]
  },
  {
   "cell_type": "code",
   "execution_count": 131,
   "metadata": {},
   "outputs": [],
   "source": [
    "# 测试10只创业板股票\n",
    "\n",
    "stocks_szc_ma = [stock_ma(stock).print_info() for stock in stocks_szc['ts_code'][:10]]"
   ]
  },
  {
   "cell_type": "code",
   "execution_count": 132,
   "metadata": {},
   "outputs": [],
   "source": [
    "pick_stocks = [i for i in stocks_szc_ma if i[0]>=3]"
   ]
  },
  {
   "cell_type": "code",
   "execution_count": 133,
   "metadata": {},
   "outputs": [
    {
     "data": {
      "text/plain": [
       "5"
      ]
     },
     "execution_count": 133,
     "metadata": {},
     "output_type": "execute_result"
    }
   ],
   "source": [
    "len(pick_stocks)"
   ]
  },
  {
   "cell_type": "code",
   "execution_count": 134,
   "metadata": {},
   "outputs": [],
   "source": [
    "msg_ls = [i[1] for i in pick_stocks]"
   ]
  },
  {
   "cell_type": "code",
   "execution_count": 135,
   "metadata": {},
   "outputs": [],
   "source": [
    "header = '时间|名称|代码|最新价|涨跌幅|4线位置|距离|21日线|60日线|21周线|60周线\\n---|---|---|---|---|---|---|---|---'\n",
    "\n",
    "table = header + '\\n' + '\\n'.join(msg_ls)"
   ]
  },
  {
   "cell_type": "code",
   "execution_count": 136,
   "metadata": {},
   "outputs": [
    {
     "name": "stdout",
     "output_type": "stream",
     "text": [
      "时间|名称|代码|最新价|涨跌幅|4线位置|距离|21日线|60日线|21周线|60周线\n",
      "---|---|---|---|---|---|---|---|---\n",
      "15:00:03|神州泰岳|300002|`5.9`|6.88%|处于`4`线上方|30.42%|`5.66`|`4.50`|`4.22`|`4.03`\n",
      "15:00:03|乐普医疗|300003|`38.76`|-2.12%|处于`3`线上方|9.44%|39.14|`37.59`|`36.41`|`30.00`\n",
      "15:00:03|天海防务|300008|`2.89`|1.05%|处于`3`线上方|-0.01%|`2.86`|`2.73`|`2.81`|3.21\n",
      "15:00:03|安科生物|300009|`17.45`|2.11%|处于`4`线上方|13.36%|`15.29`|`15.21`|`15.46`|`15.62`\n",
      "15:00:03|立思辰|300010|`18.11`|2.90%|处于`4`线上方|20.26%|`16.46`|`17.27`|`16.02`|`11.83`\n"
     ]
    }
   ],
   "source": [
    "print(table)"
   ]
  },
  {
   "cell_type": "code",
   "execution_count": null,
   "metadata": {},
   "outputs": [],
   "source": []
  },
  {
   "cell_type": "code",
   "execution_count": null,
   "metadata": {},
   "outputs": [],
   "source": []
  }
 ],
 "metadata": {
  "kernelspec": {
   "display_name": "Python 3",
   "language": "python",
   "name": "python3"
  },
  "language_info": {
   "codemirror_mode": {
    "name": "ipython",
    "version": 3
   },
   "file_extension": ".py",
   "mimetype": "text/x-python",
   "name": "python",
   "nbconvert_exporter": "python",
   "pygments_lexer": "ipython3",
   "version": "3.7.3"
  }
 },
 "nbformat": 4,
 "nbformat_minor": 4
}
